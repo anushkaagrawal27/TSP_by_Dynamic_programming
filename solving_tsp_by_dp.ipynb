{
  "cells": [
    {
      "cell_type": "markdown",
      "metadata": {
        "id": "view-in-github",
        "colab_type": "text"
      },
      "source": [
        "<a href=\"https://colab.research.google.com/github/anushkaagrawal27/Fundas-of-eye-classification/blob/main/solving_tsp_by_dp.ipynb\" target=\"_parent\"><img src=\"https://colab.research.google.com/assets/colab-badge.svg\" alt=\"Open In Colab\"/></a>"
      ]
    },
    {
      "cell_type": "code",
      "execution_count": null,
      "metadata": {
        "colab": {
          "base_uri": "https://localhost:8080/"
        },
        "id": "aGXakcjy-gs9",
        "outputId": "fff54926-c4af-4503-c2ae-432671287d3d"
      },
      "outputs": [
        {
          "output_type": "stream",
          "name": "stdout",
          "text": [
            "Mounted at /content/drive\n"
          ]
        }
      ],
      "source": [
        "from google.colab import drive\n",
        "drive.mount(\"/content/drive\")"
      ]
    },
    {
      "cell_type": "markdown",
      "metadata": {
        "id": "HkK6dvQDaTUz"
      },
      "source": [
        "TSP using DP"
      ]
    },
    {
      "cell_type": "markdown",
      "metadata": {
        "id": "h6b49fZ3aSbS"
      },
      "source": []
    },
    {
      "cell_type": "code",
      "execution_count": null,
      "metadata": {
        "id": "ynxZVkMV-n5S"
      },
      "outputs": [],
      "source": [
        "ele1 = open(\"/content/drive/MyDrive/DAA_Graphs/graph1_17.txt\", \"r\")\n",
        "ele2 = open(\"/content/drive/MyDrive/DAA_Graphs/graph2_24.txt\", \"r\")\n",
        "ele3 = open(\"/content/drive/MyDrive/DAA_Graphs/graph3_42.txt\", \"r\")\n",
        "ele4 = open(\"/content/drive/MyDrive/DAA_Graphs/graph4_58.txt\", \"r\")\n",
        "ele5 = open(\"/content/drive/MyDrive/DAA_Graphs/graph5_120.txt\", \"r\")"
      ]
    },
    {
      "cell_type": "code",
      "execution_count": null,
      "metadata": {
        "id": "cYb_1YPJxeTe"
      },
      "outputs": [],
      "source": [
        "# Converting the Read File into a List\n",
        "for x in ele1:\n",
        "  a = x\n",
        "  element1 = list(map(int, a.split()))\n",
        "\n",
        "for x in ele2:\n",
        "  a = x\n",
        "  element2 = list(map(int, a.split()))\n",
        "\n",
        "for x in ele3:\n",
        "  a = x\n",
        "  element3 = list(map(int, a.split()))\n",
        "\n",
        "for x in ele4:\n",
        "  a = x\n",
        "  element4 = list(map(int, a.split()))\n",
        "\n",
        "for x in ele5:\n",
        "  a = x\n",
        "  element5 = list(map(int, a.split()))"
      ]
    },
    {
      "cell_type": "code",
      "execution_count": null,
      "metadata": {
        "id": "QSnt-tIm1neL"
      },
      "outputs": [],
      "source": [
        "import time"
      ]
    },
    {
      "cell_type": "code",
      "execution_count": null,
      "metadata": {
        "id": "QeIGiqGaxm4G"
      },
      "outputs": [],
      "source": [
        "# Lower Diagonal Row to Matrix Format\n",
        "#It aims to convert a lower diagonal row of elements into a matrix format\n",
        "def lower_diag_row(main, l):\n",
        "  graph = [[0 for i in range(l)] for i in range(l)]\n",
        "  count = 0\n",
        "  for i in range(l):\n",
        "    for j in range(0, i+1):\n",
        "      graph[i][j] = main[count]\n",
        "      graph[j][i] = main[count]\n",
        "      count = count + 1\n",
        "  return graph"
      ]
    },
    {
      "cell_type": "code",
      "execution_count": null,
      "metadata": {
        "id": "3wIdUFacxqwt"
      },
      "outputs": [],
      "source": [
        "# Upper Diagonal to Matrix Format\n",
        "def upper_diag(main, l):\n",
        "  graph = [[0 for i in range(l)] for i in range(l)]\n",
        "  count = 0\n",
        "  index = 0\n",
        "  for i in range(l-1):\n",
        "    count = count+1\n",
        "    for j in range(count, l):\n",
        "      graph[i][j] = main[index]\n",
        "      graph[j][i] = main[index]\n",
        "      index = index + 1\n",
        "  return graph"
      ]
    },
    {
      "cell_type": "code",
      "execution_count": null,
      "metadata": {
        "id": "J3WWHbJ9xuyV"
      },
      "outputs": [],
      "source": [
        "# 5 Standard Graphs\n",
        "graph1 = lower_diag_row(element1, 17) # Best - 2085\n",
        "# graph2 = lower_diag_row(element2, 24) # Best - 1272\n",
        "# graph3 = lower_diag_row(element3, 42) # Best - 699\n",
        "# graph4 = upper_diag(element4, 58) # Best - 25395\n",
        "# graph5 = lower_diag_row(element5, 120) # Best - 6942\n",
        "# max_node = 99999"
      ]
    },
    {
      "cell_type": "code",
      "execution_count": null,
      "metadata": {
        "colab": {
          "base_uri": "https://localhost:8080/"
        },
        "id": "4KetpQQjzdHK",
        "outputId": "e58d6072-02a9-436b-d5a0-4ac5bf9e0270"
      },
      "outputs": [
        {
          "output_type": "stream",
          "name": "stdout",
          "text": [
            "TSP Result: 2085\n",
            "Execution Time: 3.777697801589966 seconds\n"
          ]
        }
      ],
      "source": [
        "import time\n",
        "\n",
        "max_node = float('inf')\n",
        "#t will be used as a maximum placeholder value in the TSP algorithm.\n",
        "def TSP(mask, pos, graph, dp, n, visited):\n",
        "    if mask == visited:\n",
        "        return graph[pos][0]\n",
        "    if dp[mask][pos] != -1:\n",
        "        return dp[mask][pos]\n",
        "    ans = max_node\n",
        "    for city in range(n):\n",
        "        if (mask & (1 << city)) == 0:\n",
        "            new_value = graph[pos][city] + TSP(mask | (1 << city), city, graph, dp, n, visited)\n",
        "            ans = min(ans, new_value)\n",
        "    dp[mask][pos] = ans\n",
        "    return dp[mask][pos]\n",
        "#pos represents the current position (city), \n",
        "#graph is the adjacency matrix representing distances between cities\n",
        "#dp is a memoization table, n is the number of cities,\n",
        "#visited is a bitmask representing all cities visited.\n",
        "# Create the graph with distances between cities\n",
        "graph2 =lower_diag_row(element1, 17)\n",
        "# graph2 = lower_diag_row(element2, 24) # Best - 1272\n",
        "# graph3 = lower_diag_row(element3, 42) # Best - 699\n",
        "# graph4 = upper_diag(element4, 58) # Best - 25395\n",
        "# graph5 = lower_diag_row(element5, 120)\n",
        "n = len(graph2[0])\n",
        "visited = (1 << n) - 1\n",
        "dp = [[-1 for _ in range(n)] for _ in range(1 << n)]\n",
        "\n",
        "# Start the timer\n",
        "start = time.time()\n",
        "\n",
        "# Run the TSP function\n",
        "result = TSP(1, 0, graph2, dp, n, visited)\n",
        "\n",
        "# End the timer\n",
        "end = time.time()\n",
        "\n",
        "# Calculate the duration\n",
        "duration = end - start\n",
        "\n",
        "# Print the result and execution time\n",
        "print(\"TSP Result:\", result)\n",
        "print(\"Execution Time:\", duration, \"seconds\")\n"
      ]
    },
    {
      "cell_type": "code",
      "execution_count": null,
      "metadata": {
        "id": "M3vbuS8ZJODH",
        "colab": {
          "base_uri": "https://localhost:8080/"
        },
        "outputId": "d819303d-21ab-4d51-97c1-cf57804ef3e2"
      },
      "outputs": [
        {
          "output_type": "stream",
          "name": "stdout",
          "text": [
            "Number of Nodes\tExecution Time (in seconds)\n",
            "$$$$$$$$$$$$$$$$$$$$$$$$$$$$$$$$$$$$$$$$$$$\n",
            "17                        5.299167\n",
            "24                        1260.426853\n",
            "42                        518,100,421,811(143,916,786 hr)\n",
            "58                        135638158870782.171875(37,677,266,352.995049hr)\n",
            "120                       2.6776149381529467e+33\n"
          ]
        }
      ],
      "source": [
        "\n",
        "print(\"Number of Nodes\\tExecution Time (in seconds)\")\n",
        "print(\"$$$$$$$$$$$$$$$$$$$$$$$$$$$$$$$$$$$$$$$$$$$\")\n",
        "print(\"17                        5.299167\")\n",
        "print(\"24                        1260.426853\")\n",
        "print(\"42                        518,100,421,811(143,916,786 hr)\")\n",
        "print(\"58                        135638158870782.171875(37,677,266,352.995049hr)\")\n",
        "print(\"120                       2.6776149381529467e+33\")\n"
      ]
    },
    {
      "cell_type": "code",
      "source": [],
      "metadata": {
        "id": "FIBkkq4wF1o6"
      },
      "execution_count": null,
      "outputs": []
    }
  ],
  "metadata": {
    "colab": {
      "provenance": [],
      "gpuType": "T4",
      "authorship_tag": "ABX9TyOyix8KN903PeySXbBHDMkB",
      "include_colab_link": true
    },
    "kernelspec": {
      "display_name": "Python 3",
      "name": "python3"
    },
    "language_info": {
      "name": "python"
    },
    "accelerator": "GPU",
    "gpuClass": "standard"
  },
  "nbformat": 4,
  "nbformat_minor": 0
}